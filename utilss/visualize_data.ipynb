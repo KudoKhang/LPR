{
 "cells": [
  {
   "cell_type": "code",
   "execution_count": 25,
   "metadata": {
    "collapsed": false,
    "pycharm": {
     "name": "#%%\n"
    }
   },
   "outputs": [
    {
     "data": {
      "text/plain": "'/Users/NghiaKhang/.matplotlib'"
     },
     "execution_count": 25,
     "metadata": {},
     "output_type": "execute_result"
    }
   ],
   "source": [
    "import os\n",
    "\n",
    "import matplotlib.pyplot as plt\n",
    "import cv2\n",
    "import numpy as np\n",
    "import pandas as pd\n",
    "import seaborn as sns\n",
    "import os\n",
    "\n",
    "import pandas as pd\n",
    "import numpy as np\n",
    "import matplotlib.pyplot as plt\n",
    "import seaborn as sns\n",
    "\n",
    "matplotlib.get_cachedir()"
   ]
  },
  {
   "cell_type": "code",
   "execution_count": 20,
   "outputs": [],
   "source": [
    "tips = sns.load_dataset('tips')\n",
    "iris = sns.load_dataset('iris')\n",
    "planets = sns.load_dataset('planets')"
   ],
   "metadata": {
    "collapsed": false,
    "pycharm": {
     "name": "#%%\n"
    }
   }
  },
  {
   "cell_type": "code",
   "execution_count": 26,
   "outputs": [
    {
     "data": {
      "text/plain": "<AxesSubplot:xlabel='day', ylabel='count'>"
     },
     "execution_count": 26,
     "metadata": {},
     "output_type": "execute_result"
    },
    {
     "name": "stderr",
     "output_type": "stream",
     "text": [
      "findfont: Font family ['sans-serif'] not found. Falling back to DejaVu Sans.\n",
      "findfont: Generic family 'sans-serif' not found because none of the following families were found: Arial, DejaVu Sans, Liberation Sans, Bitstream Vera Sans, sans-serif\n"
     ]
    },
    {
     "ename": "ValueError",
     "evalue": "Failed to find font DejaVu Sans:style=normal:variant=normal:weight=normal:stretch=normal:size=10.0, and fallback to the default font was disabled",
     "output_type": "error",
     "traceback": [
      "\u001B[0;31m---------------------------------------------------------------------------\u001B[0m",
      "\u001B[0;31mValueError\u001B[0m                                Traceback (most recent call last)",
      "File \u001B[0;32m~/miniforge3/envs/venv/lib/python3.9/site-packages/IPython/core/formatters.py:339\u001B[0m, in \u001B[0;36mBaseFormatter.__call__\u001B[0;34m(self, obj)\u001B[0m\n\u001B[1;32m    337\u001B[0m     \u001B[38;5;28;01mpass\u001B[39;00m\n\u001B[1;32m    338\u001B[0m \u001B[38;5;28;01melse\u001B[39;00m:\n\u001B[0;32m--> 339\u001B[0m     \u001B[38;5;28;01mreturn\u001B[39;00m \u001B[43mprinter\u001B[49m\u001B[43m(\u001B[49m\u001B[43mobj\u001B[49m\u001B[43m)\u001B[49m\n\u001B[1;32m    340\u001B[0m \u001B[38;5;66;03m# Finally look for special method names\u001B[39;00m\n\u001B[1;32m    341\u001B[0m method \u001B[38;5;241m=\u001B[39m get_real_method(obj, \u001B[38;5;28mself\u001B[39m\u001B[38;5;241m.\u001B[39mprint_method)\n",
      "File \u001B[0;32m~/miniforge3/envs/venv/lib/python3.9/site-packages/IPython/core/pylabtools.py:151\u001B[0m, in \u001B[0;36mprint_figure\u001B[0;34m(fig, fmt, bbox_inches, base64, **kwargs)\u001B[0m\n\u001B[1;32m    148\u001B[0m     \u001B[38;5;28;01mfrom\u001B[39;00m \u001B[38;5;21;01mmatplotlib\u001B[39;00m\u001B[38;5;21;01m.\u001B[39;00m\u001B[38;5;21;01mbackend_bases\u001B[39;00m \u001B[38;5;28;01mimport\u001B[39;00m FigureCanvasBase\n\u001B[1;32m    149\u001B[0m     FigureCanvasBase(fig)\n\u001B[0;32m--> 151\u001B[0m \u001B[43mfig\u001B[49m\u001B[38;5;241;43m.\u001B[39;49m\u001B[43mcanvas\u001B[49m\u001B[38;5;241;43m.\u001B[39;49m\u001B[43mprint_figure\u001B[49m\u001B[43m(\u001B[49m\u001B[43mbytes_io\u001B[49m\u001B[43m,\u001B[49m\u001B[43m \u001B[49m\u001B[38;5;241;43m*\u001B[39;49m\u001B[38;5;241;43m*\u001B[39;49m\u001B[43mkw\u001B[49m\u001B[43m)\u001B[49m\n\u001B[1;32m    152\u001B[0m data \u001B[38;5;241m=\u001B[39m bytes_io\u001B[38;5;241m.\u001B[39mgetvalue()\n\u001B[1;32m    153\u001B[0m \u001B[38;5;28;01mif\u001B[39;00m fmt \u001B[38;5;241m==\u001B[39m \u001B[38;5;124m'\u001B[39m\u001B[38;5;124msvg\u001B[39m\u001B[38;5;124m'\u001B[39m:\n",
      "File \u001B[0;32m~/miniforge3/envs/venv/lib/python3.9/site-packages/matplotlib/backend_bases.py:2295\u001B[0m, in \u001B[0;36mFigureCanvasBase.print_figure\u001B[0;34m(self, filename, dpi, facecolor, edgecolor, orientation, format, bbox_inches, pad_inches, bbox_extra_artists, backend, **kwargs)\u001B[0m\n\u001B[1;32m   2289\u001B[0m     renderer \u001B[38;5;241m=\u001B[39m _get_renderer(\n\u001B[1;32m   2290\u001B[0m         \u001B[38;5;28mself\u001B[39m\u001B[38;5;241m.\u001B[39mfigure,\n\u001B[1;32m   2291\u001B[0m         functools\u001B[38;5;241m.\u001B[39mpartial(\n\u001B[1;32m   2292\u001B[0m             print_method, orientation\u001B[38;5;241m=\u001B[39morientation)\n\u001B[1;32m   2293\u001B[0m     )\n\u001B[1;32m   2294\u001B[0m     \u001B[38;5;28;01mwith\u001B[39;00m \u001B[38;5;28mgetattr\u001B[39m(renderer, \u001B[38;5;124m\"\u001B[39m\u001B[38;5;124m_draw_disabled\u001B[39m\u001B[38;5;124m\"\u001B[39m, nullcontext)():\n\u001B[0;32m-> 2295\u001B[0m         \u001B[38;5;28;43mself\u001B[39;49m\u001B[38;5;241;43m.\u001B[39;49m\u001B[43mfigure\u001B[49m\u001B[38;5;241;43m.\u001B[39;49m\u001B[43mdraw\u001B[49m\u001B[43m(\u001B[49m\u001B[43mrenderer\u001B[49m\u001B[43m)\u001B[49m\n\u001B[1;32m   2297\u001B[0m \u001B[38;5;28;01mif\u001B[39;00m bbox_inches:\n\u001B[1;32m   2298\u001B[0m     \u001B[38;5;28;01mif\u001B[39;00m bbox_inches \u001B[38;5;241m==\u001B[39m \u001B[38;5;124m\"\u001B[39m\u001B[38;5;124mtight\u001B[39m\u001B[38;5;124m\"\u001B[39m:\n",
      "File \u001B[0;32m~/miniforge3/envs/venv/lib/python3.9/site-packages/matplotlib/artist.py:73\u001B[0m, in \u001B[0;36m_finalize_rasterization.<locals>.draw_wrapper\u001B[0;34m(artist, renderer, *args, **kwargs)\u001B[0m\n\u001B[1;32m     71\u001B[0m \u001B[38;5;129m@wraps\u001B[39m(draw)\n\u001B[1;32m     72\u001B[0m \u001B[38;5;28;01mdef\u001B[39;00m \u001B[38;5;21mdraw_wrapper\u001B[39m(artist, renderer, \u001B[38;5;241m*\u001B[39margs, \u001B[38;5;241m*\u001B[39m\u001B[38;5;241m*\u001B[39mkwargs):\n\u001B[0;32m---> 73\u001B[0m     result \u001B[38;5;241m=\u001B[39m \u001B[43mdraw\u001B[49m\u001B[43m(\u001B[49m\u001B[43martist\u001B[49m\u001B[43m,\u001B[49m\u001B[43m \u001B[49m\u001B[43mrenderer\u001B[49m\u001B[43m,\u001B[49m\u001B[43m \u001B[49m\u001B[38;5;241;43m*\u001B[39;49m\u001B[43margs\u001B[49m\u001B[43m,\u001B[49m\u001B[43m \u001B[49m\u001B[38;5;241;43m*\u001B[39;49m\u001B[38;5;241;43m*\u001B[39;49m\u001B[43mkwargs\u001B[49m\u001B[43m)\u001B[49m\n\u001B[1;32m     74\u001B[0m     \u001B[38;5;28;01mif\u001B[39;00m renderer\u001B[38;5;241m.\u001B[39m_rasterizing:\n\u001B[1;32m     75\u001B[0m         renderer\u001B[38;5;241m.\u001B[39mstop_rasterizing()\n",
      "File \u001B[0;32m~/miniforge3/envs/venv/lib/python3.9/site-packages/matplotlib/artist.py:50\u001B[0m, in \u001B[0;36mallow_rasterization.<locals>.draw_wrapper\u001B[0;34m(artist, renderer)\u001B[0m\n\u001B[1;32m     47\u001B[0m     \u001B[38;5;28;01mif\u001B[39;00m artist\u001B[38;5;241m.\u001B[39mget_agg_filter() \u001B[38;5;129;01mis\u001B[39;00m \u001B[38;5;129;01mnot\u001B[39;00m \u001B[38;5;28;01mNone\u001B[39;00m:\n\u001B[1;32m     48\u001B[0m         renderer\u001B[38;5;241m.\u001B[39mstart_filter()\n\u001B[0;32m---> 50\u001B[0m     \u001B[38;5;28;01mreturn\u001B[39;00m \u001B[43mdraw\u001B[49m\u001B[43m(\u001B[49m\u001B[43martist\u001B[49m\u001B[43m,\u001B[49m\u001B[43m \u001B[49m\u001B[43mrenderer\u001B[49m\u001B[43m)\u001B[49m\n\u001B[1;32m     51\u001B[0m \u001B[38;5;28;01mfinally\u001B[39;00m:\n\u001B[1;32m     52\u001B[0m     \u001B[38;5;28;01mif\u001B[39;00m artist\u001B[38;5;241m.\u001B[39mget_agg_filter() \u001B[38;5;129;01mis\u001B[39;00m \u001B[38;5;129;01mnot\u001B[39;00m \u001B[38;5;28;01mNone\u001B[39;00m:\n",
      "File \u001B[0;32m~/miniforge3/envs/venv/lib/python3.9/site-packages/matplotlib/figure.py:2810\u001B[0m, in \u001B[0;36mFigure.draw\u001B[0;34m(self, renderer)\u001B[0m\n\u001B[1;32m   2807\u001B[0m         \u001B[38;5;66;03m# ValueError can occur when resizing a window.\u001B[39;00m\n\u001B[1;32m   2809\u001B[0m \u001B[38;5;28mself\u001B[39m\u001B[38;5;241m.\u001B[39mpatch\u001B[38;5;241m.\u001B[39mdraw(renderer)\n\u001B[0;32m-> 2810\u001B[0m \u001B[43mmimage\u001B[49m\u001B[38;5;241;43m.\u001B[39;49m\u001B[43m_draw_list_compositing_images\u001B[49m\u001B[43m(\u001B[49m\n\u001B[1;32m   2811\u001B[0m \u001B[43m    \u001B[49m\u001B[43mrenderer\u001B[49m\u001B[43m,\u001B[49m\u001B[43m \u001B[49m\u001B[38;5;28;43mself\u001B[39;49m\u001B[43m,\u001B[49m\u001B[43m \u001B[49m\u001B[43martists\u001B[49m\u001B[43m,\u001B[49m\u001B[43m \u001B[49m\u001B[38;5;28;43mself\u001B[39;49m\u001B[38;5;241;43m.\u001B[39;49m\u001B[43msuppressComposite\u001B[49m\u001B[43m)\u001B[49m\n\u001B[1;32m   2813\u001B[0m \u001B[38;5;28;01mfor\u001B[39;00m sfig \u001B[38;5;129;01min\u001B[39;00m \u001B[38;5;28mself\u001B[39m\u001B[38;5;241m.\u001B[39msubfigs:\n\u001B[1;32m   2814\u001B[0m     sfig\u001B[38;5;241m.\u001B[39mdraw(renderer)\n",
      "File \u001B[0;32m~/miniforge3/envs/venv/lib/python3.9/site-packages/matplotlib/image.py:132\u001B[0m, in \u001B[0;36m_draw_list_compositing_images\u001B[0;34m(renderer, parent, artists, suppress_composite)\u001B[0m\n\u001B[1;32m    130\u001B[0m \u001B[38;5;28;01mif\u001B[39;00m not_composite \u001B[38;5;129;01mor\u001B[39;00m \u001B[38;5;129;01mnot\u001B[39;00m has_images:\n\u001B[1;32m    131\u001B[0m     \u001B[38;5;28;01mfor\u001B[39;00m a \u001B[38;5;129;01min\u001B[39;00m artists:\n\u001B[0;32m--> 132\u001B[0m         \u001B[43ma\u001B[49m\u001B[38;5;241;43m.\u001B[39;49m\u001B[43mdraw\u001B[49m\u001B[43m(\u001B[49m\u001B[43mrenderer\u001B[49m\u001B[43m)\u001B[49m\n\u001B[1;32m    133\u001B[0m \u001B[38;5;28;01melse\u001B[39;00m:\n\u001B[1;32m    134\u001B[0m     \u001B[38;5;66;03m# Composite any adjacent images together\u001B[39;00m\n\u001B[1;32m    135\u001B[0m     image_group \u001B[38;5;241m=\u001B[39m []\n",
      "File \u001B[0;32m~/miniforge3/envs/venv/lib/python3.9/site-packages/matplotlib/artist.py:50\u001B[0m, in \u001B[0;36mallow_rasterization.<locals>.draw_wrapper\u001B[0;34m(artist, renderer)\u001B[0m\n\u001B[1;32m     47\u001B[0m     \u001B[38;5;28;01mif\u001B[39;00m artist\u001B[38;5;241m.\u001B[39mget_agg_filter() \u001B[38;5;129;01mis\u001B[39;00m \u001B[38;5;129;01mnot\u001B[39;00m \u001B[38;5;28;01mNone\u001B[39;00m:\n\u001B[1;32m     48\u001B[0m         renderer\u001B[38;5;241m.\u001B[39mstart_filter()\n\u001B[0;32m---> 50\u001B[0m     \u001B[38;5;28;01mreturn\u001B[39;00m \u001B[43mdraw\u001B[49m\u001B[43m(\u001B[49m\u001B[43martist\u001B[49m\u001B[43m,\u001B[49m\u001B[43m \u001B[49m\u001B[43mrenderer\u001B[49m\u001B[43m)\u001B[49m\n\u001B[1;32m     51\u001B[0m \u001B[38;5;28;01mfinally\u001B[39;00m:\n\u001B[1;32m     52\u001B[0m     \u001B[38;5;28;01mif\u001B[39;00m artist\u001B[38;5;241m.\u001B[39mget_agg_filter() \u001B[38;5;129;01mis\u001B[39;00m \u001B[38;5;129;01mnot\u001B[39;00m \u001B[38;5;28;01mNone\u001B[39;00m:\n",
      "File \u001B[0;32m~/miniforge3/envs/venv/lib/python3.9/site-packages/matplotlib/axes/_base.py:3046\u001B[0m, in \u001B[0;36m_AxesBase.draw\u001B[0;34m(self, renderer)\u001B[0m\n\u001B[1;32m   3043\u001B[0m     \u001B[38;5;28;01mfor\u001B[39;00m spine \u001B[38;5;129;01min\u001B[39;00m \u001B[38;5;28mself\u001B[39m\u001B[38;5;241m.\u001B[39mspines\u001B[38;5;241m.\u001B[39mvalues():\n\u001B[1;32m   3044\u001B[0m         artists\u001B[38;5;241m.\u001B[39mremove(spine)\n\u001B[0;32m-> 3046\u001B[0m \u001B[38;5;28;43mself\u001B[39;49m\u001B[38;5;241;43m.\u001B[39;49m\u001B[43m_update_title_position\u001B[49m\u001B[43m(\u001B[49m\u001B[43mrenderer\u001B[49m\u001B[43m)\u001B[49m\n\u001B[1;32m   3048\u001B[0m \u001B[38;5;28;01mif\u001B[39;00m \u001B[38;5;129;01mnot\u001B[39;00m \u001B[38;5;28mself\u001B[39m\u001B[38;5;241m.\u001B[39maxison:\n\u001B[1;32m   3049\u001B[0m     \u001B[38;5;28;01mfor\u001B[39;00m _axis \u001B[38;5;129;01min\u001B[39;00m \u001B[38;5;28mself\u001B[39m\u001B[38;5;241m.\u001B[39m_get_axis_list():\n",
      "File \u001B[0;32m~/miniforge3/envs/venv/lib/python3.9/site-packages/matplotlib/axes/_base.py:2986\u001B[0m, in \u001B[0;36m_AxesBase._update_title_position\u001B[0;34m(self, renderer)\u001B[0m\n\u001B[1;32m   2983\u001B[0m \u001B[38;5;28;01mfor\u001B[39;00m ax \u001B[38;5;129;01min\u001B[39;00m axs:\n\u001B[1;32m   2984\u001B[0m     \u001B[38;5;28;01mif\u001B[39;00m (ax\u001B[38;5;241m.\u001B[39mxaxis\u001B[38;5;241m.\u001B[39mget_ticks_position() \u001B[38;5;129;01min\u001B[39;00m [\u001B[38;5;124m'\u001B[39m\u001B[38;5;124mtop\u001B[39m\u001B[38;5;124m'\u001B[39m, \u001B[38;5;124m'\u001B[39m\u001B[38;5;124munknown\u001B[39m\u001B[38;5;124m'\u001B[39m]\n\u001B[1;32m   2985\u001B[0m             \u001B[38;5;129;01mor\u001B[39;00m ax\u001B[38;5;241m.\u001B[39mxaxis\u001B[38;5;241m.\u001B[39mget_label_position() \u001B[38;5;241m==\u001B[39m \u001B[38;5;124m'\u001B[39m\u001B[38;5;124mtop\u001B[39m\u001B[38;5;124m'\u001B[39m):\n\u001B[0;32m-> 2986\u001B[0m         bb \u001B[38;5;241m=\u001B[39m \u001B[43max\u001B[49m\u001B[38;5;241;43m.\u001B[39;49m\u001B[43mxaxis\u001B[49m\u001B[38;5;241;43m.\u001B[39;49m\u001B[43mget_tightbbox\u001B[49m\u001B[43m(\u001B[49m\u001B[43mrenderer\u001B[49m\u001B[43m)\u001B[49m\n\u001B[1;32m   2987\u001B[0m     \u001B[38;5;28;01melse\u001B[39;00m:\n\u001B[1;32m   2988\u001B[0m         bb \u001B[38;5;241m=\u001B[39m ax\u001B[38;5;241m.\u001B[39mget_window_extent(renderer)\n",
      "File \u001B[0;32m~/miniforge3/envs/venv/lib/python3.9/site-packages/matplotlib/axis.py:1105\u001B[0m, in \u001B[0;36mAxis.get_tightbbox\u001B[0;34m(self, renderer, for_layout_only)\u001B[0m\n\u001B[1;32m   1101\u001B[0m     \u001B[38;5;28;01mreturn\u001B[39;00m\n\u001B[1;32m   1103\u001B[0m ticks_to_draw \u001B[38;5;241m=\u001B[39m \u001B[38;5;28mself\u001B[39m\u001B[38;5;241m.\u001B[39m_update_ticks()\n\u001B[0;32m-> 1105\u001B[0m \u001B[38;5;28;43mself\u001B[39;49m\u001B[38;5;241;43m.\u001B[39;49m\u001B[43m_update_label_position\u001B[49m\u001B[43m(\u001B[49m\u001B[43mrenderer\u001B[49m\u001B[43m)\u001B[49m\n\u001B[1;32m   1107\u001B[0m \u001B[38;5;66;03m# go back to just this axis's tick labels\u001B[39;00m\n\u001B[1;32m   1108\u001B[0m ticklabelBoxes, ticklabelBoxes2 \u001B[38;5;241m=\u001B[39m \u001B[38;5;28mself\u001B[39m\u001B[38;5;241m.\u001B[39m_get_tick_bboxes(\n\u001B[1;32m   1109\u001B[0m             ticks_to_draw, renderer)\n",
      "File \u001B[0;32m~/miniforge3/envs/venv/lib/python3.9/site-packages/matplotlib/axis.py:2083\u001B[0m, in \u001B[0;36mXAxis._update_label_position\u001B[0;34m(self, renderer)\u001B[0m\n\u001B[1;32m   2079\u001B[0m     \u001B[38;5;28;01mreturn\u001B[39;00m\n\u001B[1;32m   2081\u001B[0m \u001B[38;5;66;03m# get bounding boxes for this axis and any siblings\u001B[39;00m\n\u001B[1;32m   2082\u001B[0m \u001B[38;5;66;03m# that have been set by `fig.align_xlabels()`\u001B[39;00m\n\u001B[0;32m-> 2083\u001B[0m bboxes, bboxes2 \u001B[38;5;241m=\u001B[39m \u001B[38;5;28;43mself\u001B[39;49m\u001B[38;5;241;43m.\u001B[39;49m\u001B[43m_get_tick_boxes_siblings\u001B[49m\u001B[43m(\u001B[49m\u001B[43mrenderer\u001B[49m\u001B[38;5;241;43m=\u001B[39;49m\u001B[43mrenderer\u001B[49m\u001B[43m)\u001B[49m\n\u001B[1;32m   2085\u001B[0m x, y \u001B[38;5;241m=\u001B[39m \u001B[38;5;28mself\u001B[39m\u001B[38;5;241m.\u001B[39mlabel\u001B[38;5;241m.\u001B[39mget_position()\n\u001B[1;32m   2086\u001B[0m \u001B[38;5;28;01mif\u001B[39;00m \u001B[38;5;28mself\u001B[39m\u001B[38;5;241m.\u001B[39mlabel_position \u001B[38;5;241m==\u001B[39m \u001B[38;5;124m'\u001B[39m\u001B[38;5;124mbottom\u001B[39m\u001B[38;5;124m'\u001B[39m:\n",
      "File \u001B[0;32m~/miniforge3/envs/venv/lib/python3.9/site-packages/matplotlib/axis.py:1881\u001B[0m, in \u001B[0;36mAxis._get_tick_boxes_siblings\u001B[0;34m(self, renderer)\u001B[0m\n\u001B[1;32m   1879\u001B[0m axis \u001B[38;5;241m=\u001B[39m \u001B[38;5;28mgetattr\u001B[39m(ax, \u001B[38;5;124mf\u001B[39m\u001B[38;5;124m\"\u001B[39m\u001B[38;5;132;01m{\u001B[39;00maxis_name\u001B[38;5;132;01m}\u001B[39;00m\u001B[38;5;124maxis\u001B[39m\u001B[38;5;124m\"\u001B[39m)\n\u001B[1;32m   1880\u001B[0m ticks_to_draw \u001B[38;5;241m=\u001B[39m axis\u001B[38;5;241m.\u001B[39m_update_ticks()\n\u001B[0;32m-> 1881\u001B[0m tlb, tlb2 \u001B[38;5;241m=\u001B[39m \u001B[43maxis\u001B[49m\u001B[38;5;241;43m.\u001B[39;49m\u001B[43m_get_tick_bboxes\u001B[49m\u001B[43m(\u001B[49m\u001B[43mticks_to_draw\u001B[49m\u001B[43m,\u001B[49m\u001B[43m \u001B[49m\u001B[43mrenderer\u001B[49m\u001B[43m)\u001B[49m\n\u001B[1;32m   1882\u001B[0m bboxes\u001B[38;5;241m.\u001B[39mextend(tlb)\n\u001B[1;32m   1883\u001B[0m bboxes2\u001B[38;5;241m.\u001B[39mextend(tlb2)\n",
      "File \u001B[0;32m~/miniforge3/envs/venv/lib/python3.9/site-packages/matplotlib/axis.py:1085\u001B[0m, in \u001B[0;36mAxis._get_tick_bboxes\u001B[0;34m(self, ticks, renderer)\u001B[0m\n\u001B[1;32m   1083\u001B[0m \u001B[38;5;28;01mdef\u001B[39;00m \u001B[38;5;21m_get_tick_bboxes\u001B[39m(\u001B[38;5;28mself\u001B[39m, ticks, renderer):\n\u001B[1;32m   1084\u001B[0m     \u001B[38;5;124;03m\"\"\"Return lists of bboxes for ticks' label1's and label2's.\"\"\"\u001B[39;00m\n\u001B[0;32m-> 1085\u001B[0m     \u001B[38;5;28;01mreturn\u001B[39;00m ([tick\u001B[38;5;241m.\u001B[39mlabel1\u001B[38;5;241m.\u001B[39mget_window_extent(renderer)\n\u001B[1;32m   1086\u001B[0m              \u001B[38;5;28;01mfor\u001B[39;00m tick \u001B[38;5;129;01min\u001B[39;00m ticks \u001B[38;5;28;01mif\u001B[39;00m tick\u001B[38;5;241m.\u001B[39mlabel1\u001B[38;5;241m.\u001B[39mget_visible()],\n\u001B[1;32m   1087\u001B[0m             [tick\u001B[38;5;241m.\u001B[39mlabel2\u001B[38;5;241m.\u001B[39mget_window_extent(renderer)\n\u001B[1;32m   1088\u001B[0m              \u001B[38;5;28;01mfor\u001B[39;00m tick \u001B[38;5;129;01min\u001B[39;00m ticks \u001B[38;5;28;01mif\u001B[39;00m tick\u001B[38;5;241m.\u001B[39mlabel2\u001B[38;5;241m.\u001B[39mget_visible()])\n",
      "File \u001B[0;32m~/miniforge3/envs/venv/lib/python3.9/site-packages/matplotlib/axis.py:1085\u001B[0m, in \u001B[0;36m<listcomp>\u001B[0;34m(.0)\u001B[0m\n\u001B[1;32m   1083\u001B[0m \u001B[38;5;28;01mdef\u001B[39;00m \u001B[38;5;21m_get_tick_bboxes\u001B[39m(\u001B[38;5;28mself\u001B[39m, ticks, renderer):\n\u001B[1;32m   1084\u001B[0m     \u001B[38;5;124;03m\"\"\"Return lists of bboxes for ticks' label1's and label2's.\"\"\"\u001B[39;00m\n\u001B[0;32m-> 1085\u001B[0m     \u001B[38;5;28;01mreturn\u001B[39;00m ([\u001B[43mtick\u001B[49m\u001B[38;5;241;43m.\u001B[39;49m\u001B[43mlabel1\u001B[49m\u001B[38;5;241;43m.\u001B[39;49m\u001B[43mget_window_extent\u001B[49m\u001B[43m(\u001B[49m\u001B[43mrenderer\u001B[49m\u001B[43m)\u001B[49m\n\u001B[1;32m   1086\u001B[0m              \u001B[38;5;28;01mfor\u001B[39;00m tick \u001B[38;5;129;01min\u001B[39;00m ticks \u001B[38;5;28;01mif\u001B[39;00m tick\u001B[38;5;241m.\u001B[39mlabel1\u001B[38;5;241m.\u001B[39mget_visible()],\n\u001B[1;32m   1087\u001B[0m             [tick\u001B[38;5;241m.\u001B[39mlabel2\u001B[38;5;241m.\u001B[39mget_window_extent(renderer)\n\u001B[1;32m   1088\u001B[0m              \u001B[38;5;28;01mfor\u001B[39;00m tick \u001B[38;5;129;01min\u001B[39;00m ticks \u001B[38;5;28;01mif\u001B[39;00m tick\u001B[38;5;241m.\u001B[39mlabel2\u001B[38;5;241m.\u001B[39mget_visible()])\n",
      "File \u001B[0;32m~/miniforge3/envs/venv/lib/python3.9/site-packages/matplotlib/text.py:910\u001B[0m, in \u001B[0;36mText.get_window_extent\u001B[0;34m(self, renderer, dpi)\u001B[0m\n\u001B[1;32m    907\u001B[0m     \u001B[38;5;28;01mraise\u001B[39;00m \u001B[38;5;167;01mRuntimeError\u001B[39;00m(\u001B[38;5;124m'\u001B[39m\u001B[38;5;124mCannot get window extent w/o renderer\u001B[39m\u001B[38;5;124m'\u001B[39m)\n\u001B[1;32m    909\u001B[0m \u001B[38;5;28;01mwith\u001B[39;00m cbook\u001B[38;5;241m.\u001B[39m_setattr_cm(\u001B[38;5;28mself\u001B[39m\u001B[38;5;241m.\u001B[39mfigure, dpi\u001B[38;5;241m=\u001B[39mdpi):\n\u001B[0;32m--> 910\u001B[0m     bbox, info, descent \u001B[38;5;241m=\u001B[39m \u001B[38;5;28;43mself\u001B[39;49m\u001B[38;5;241;43m.\u001B[39;49m\u001B[43m_get_layout\u001B[49m\u001B[43m(\u001B[49m\u001B[38;5;28;43mself\u001B[39;49m\u001B[38;5;241;43m.\u001B[39;49m\u001B[43m_renderer\u001B[49m\u001B[43m)\u001B[49m\n\u001B[1;32m    911\u001B[0m     x, y \u001B[38;5;241m=\u001B[39m \u001B[38;5;28mself\u001B[39m\u001B[38;5;241m.\u001B[39mget_unitless_position()\n\u001B[1;32m    912\u001B[0m     x, y \u001B[38;5;241m=\u001B[39m \u001B[38;5;28mself\u001B[39m\u001B[38;5;241m.\u001B[39mget_transform()\u001B[38;5;241m.\u001B[39mtransform((x, y))\n",
      "File \u001B[0;32m~/miniforge3/envs/venv/lib/python3.9/site-packages/matplotlib/text.py:309\u001B[0m, in \u001B[0;36mText._get_layout\u001B[0;34m(self, renderer)\u001B[0m\n\u001B[1;32m    306\u001B[0m ys \u001B[38;5;241m=\u001B[39m []\n\u001B[1;32m    308\u001B[0m \u001B[38;5;66;03m# Full vertical extent of font, including ascenders and descenders:\u001B[39;00m\n\u001B[0;32m--> 309\u001B[0m _, lp_h, lp_d \u001B[38;5;241m=\u001B[39m \u001B[43mrenderer\u001B[49m\u001B[38;5;241;43m.\u001B[39;49m\u001B[43mget_text_width_height_descent\u001B[49m\u001B[43m(\u001B[49m\n\u001B[1;32m    310\u001B[0m \u001B[43m    \u001B[49m\u001B[38;5;124;43m\"\u001B[39;49m\u001B[38;5;124;43mlp\u001B[39;49m\u001B[38;5;124;43m\"\u001B[39;49m\u001B[43m,\u001B[49m\u001B[43m \u001B[49m\u001B[38;5;28;43mself\u001B[39;49m\u001B[38;5;241;43m.\u001B[39;49m\u001B[43m_fontproperties\u001B[49m\u001B[43m,\u001B[49m\n\u001B[1;32m    311\u001B[0m \u001B[43m    \u001B[49m\u001B[43mismath\u001B[49m\u001B[38;5;241;43m=\u001B[39;49m\u001B[38;5;124;43m\"\u001B[39;49m\u001B[38;5;124;43mTeX\u001B[39;49m\u001B[38;5;124;43m\"\u001B[39;49m\u001B[43m \u001B[49m\u001B[38;5;28;43;01mif\u001B[39;49;00m\u001B[43m \u001B[49m\u001B[38;5;28;43mself\u001B[39;49m\u001B[38;5;241;43m.\u001B[39;49m\u001B[43mget_usetex\u001B[49m\u001B[43m(\u001B[49m\u001B[43m)\u001B[49m\u001B[43m \u001B[49m\u001B[38;5;28;43;01melse\u001B[39;49;00m\u001B[43m \u001B[49m\u001B[38;5;28;43;01mFalse\u001B[39;49;00m\u001B[43m)\u001B[49m\n\u001B[1;32m    312\u001B[0m min_dy \u001B[38;5;241m=\u001B[39m (lp_h \u001B[38;5;241m-\u001B[39m lp_d) \u001B[38;5;241m*\u001B[39m \u001B[38;5;28mself\u001B[39m\u001B[38;5;241m.\u001B[39m_linespacing\n\u001B[1;32m    314\u001B[0m \u001B[38;5;28;01mfor\u001B[39;00m i, line \u001B[38;5;129;01min\u001B[39;00m \u001B[38;5;28menumerate\u001B[39m(lines):\n",
      "File \u001B[0;32m~/miniforge3/envs/venv/lib/python3.9/site-packages/matplotlib/backends/backend_agg.py:269\u001B[0m, in \u001B[0;36mRendererAgg.get_text_width_height_descent\u001B[0;34m(self, s, prop, ismath)\u001B[0m\n\u001B[1;32m    266\u001B[0m     \u001B[38;5;28;01mreturn\u001B[39;00m width, height, descent\n\u001B[1;32m    268\u001B[0m flags \u001B[38;5;241m=\u001B[39m get_hinting_flag()\n\u001B[0;32m--> 269\u001B[0m font \u001B[38;5;241m=\u001B[39m \u001B[38;5;28;43mself\u001B[39;49m\u001B[38;5;241;43m.\u001B[39;49m\u001B[43m_get_agg_font\u001B[49m\u001B[43m(\u001B[49m\u001B[43mprop\u001B[49m\u001B[43m)\u001B[49m\n\u001B[1;32m    270\u001B[0m font\u001B[38;5;241m.\u001B[39mset_text(s, \u001B[38;5;241m0.0\u001B[39m, flags\u001B[38;5;241m=\u001B[39mflags)\n\u001B[1;32m    271\u001B[0m w, h \u001B[38;5;241m=\u001B[39m font\u001B[38;5;241m.\u001B[39mget_width_height()  \u001B[38;5;66;03m# width and height of unrotated string\u001B[39;00m\n",
      "File \u001B[0;32m~/miniforge3/envs/venv/lib/python3.9/site-packages/matplotlib/backends/backend_agg.py:303\u001B[0m, in \u001B[0;36mRendererAgg._get_agg_font\u001B[0;34m(self, prop)\u001B[0m\n\u001B[1;32m    299\u001B[0m \u001B[38;5;28;01mdef\u001B[39;00m \u001B[38;5;21m_get_agg_font\u001B[39m(\u001B[38;5;28mself\u001B[39m, prop):\n\u001B[1;32m    300\u001B[0m     \u001B[38;5;124;03m\"\"\"\u001B[39;00m\n\u001B[1;32m    301\u001B[0m \u001B[38;5;124;03m    Get the font for text instance t, caching for efficiency\u001B[39;00m\n\u001B[1;32m    302\u001B[0m \u001B[38;5;124;03m    \"\"\"\u001B[39;00m\n\u001B[0;32m--> 303\u001B[0m     fname \u001B[38;5;241m=\u001B[39m \u001B[43mfindfont\u001B[49m\u001B[43m(\u001B[49m\u001B[43mprop\u001B[49m\u001B[43m)\u001B[49m\n\u001B[1;32m    304\u001B[0m     font \u001B[38;5;241m=\u001B[39m get_font(fname)\n\u001B[1;32m    306\u001B[0m     font\u001B[38;5;241m.\u001B[39mclear()\n",
      "File \u001B[0;32m~/miniforge3/envs/venv/lib/python3.9/site-packages/matplotlib/font_manager.py:1307\u001B[0m, in \u001B[0;36mFontManager.findfont\u001B[0;34m(self, prop, fontext, directory, fallback_to_default, rebuild_if_missing)\u001B[0m\n\u001B[1;32m   1301\u001B[0m \u001B[38;5;66;03m# Pass the relevant rcParams (and the font manager, as `self`) to\u001B[39;00m\n\u001B[1;32m   1302\u001B[0m \u001B[38;5;66;03m# _findfont_cached so to prevent using a stale cache entry after an\u001B[39;00m\n\u001B[1;32m   1303\u001B[0m \u001B[38;5;66;03m# rcParam was changed.\u001B[39;00m\n\u001B[1;32m   1304\u001B[0m rc_params \u001B[38;5;241m=\u001B[39m \u001B[38;5;28mtuple\u001B[39m(\u001B[38;5;28mtuple\u001B[39m(rcParams[key]) \u001B[38;5;28;01mfor\u001B[39;00m key \u001B[38;5;129;01min\u001B[39;00m [\n\u001B[1;32m   1305\u001B[0m     \u001B[38;5;124m\"\u001B[39m\u001B[38;5;124mfont.serif\u001B[39m\u001B[38;5;124m\"\u001B[39m, \u001B[38;5;124m\"\u001B[39m\u001B[38;5;124mfont.sans-serif\u001B[39m\u001B[38;5;124m\"\u001B[39m, \u001B[38;5;124m\"\u001B[39m\u001B[38;5;124mfont.cursive\u001B[39m\u001B[38;5;124m\"\u001B[39m, \u001B[38;5;124m\"\u001B[39m\u001B[38;5;124mfont.fantasy\u001B[39m\u001B[38;5;124m\"\u001B[39m,\n\u001B[1;32m   1306\u001B[0m     \u001B[38;5;124m\"\u001B[39m\u001B[38;5;124mfont.monospace\u001B[39m\u001B[38;5;124m\"\u001B[39m])\n\u001B[0;32m-> 1307\u001B[0m \u001B[38;5;28;01mreturn\u001B[39;00m \u001B[38;5;28;43mself\u001B[39;49m\u001B[38;5;241;43m.\u001B[39;49m\u001B[43m_findfont_cached\u001B[49m\u001B[43m(\u001B[49m\n\u001B[1;32m   1308\u001B[0m \u001B[43m    \u001B[49m\u001B[43mprop\u001B[49m\u001B[43m,\u001B[49m\u001B[43m \u001B[49m\u001B[43mfontext\u001B[49m\u001B[43m,\u001B[49m\u001B[43m \u001B[49m\u001B[43mdirectory\u001B[49m\u001B[43m,\u001B[49m\u001B[43m \u001B[49m\u001B[43mfallback_to_default\u001B[49m\u001B[43m,\u001B[49m\u001B[43m \u001B[49m\u001B[43mrebuild_if_missing\u001B[49m\u001B[43m,\u001B[49m\n\u001B[1;32m   1309\u001B[0m \u001B[43m    \u001B[49m\u001B[43mrc_params\u001B[49m\u001B[43m)\u001B[49m\n",
      "File \u001B[0;32m~/miniforge3/envs/venv/lib/python3.9/site-packages/matplotlib/font_manager.py:1361\u001B[0m, in \u001B[0;36mFontManager._findfont_cached\u001B[0;34m(self, prop, fontext, directory, fallback_to_default, rebuild_if_missing, rc_params)\u001B[0m\n\u001B[1;32m   1359\u001B[0m     default_prop \u001B[38;5;241m=\u001B[39m prop\u001B[38;5;241m.\u001B[39mcopy()\n\u001B[1;32m   1360\u001B[0m     default_prop\u001B[38;5;241m.\u001B[39mset_family(\u001B[38;5;28mself\u001B[39m\u001B[38;5;241m.\u001B[39mdefaultFamily[fontext])\n\u001B[0;32m-> 1361\u001B[0m     \u001B[38;5;28;01mreturn\u001B[39;00m \u001B[38;5;28;43mself\u001B[39;49m\u001B[38;5;241;43m.\u001B[39;49m\u001B[43mfindfont\u001B[49m\u001B[43m(\u001B[49m\u001B[43mdefault_prop\u001B[49m\u001B[43m,\u001B[49m\u001B[43m \u001B[49m\u001B[43mfontext\u001B[49m\u001B[43m,\u001B[49m\u001B[43m \u001B[49m\u001B[43mdirectory\u001B[49m\u001B[43m,\u001B[49m\n\u001B[1;32m   1362\u001B[0m \u001B[43m                         \u001B[49m\u001B[43mfallback_to_default\u001B[49m\u001B[38;5;241;43m=\u001B[39;49m\u001B[38;5;28;43;01mFalse\u001B[39;49;00m\u001B[43m)\u001B[49m\n\u001B[1;32m   1363\u001B[0m \u001B[38;5;28;01melse\u001B[39;00m:\n\u001B[1;32m   1364\u001B[0m     \u001B[38;5;28;01mraise\u001B[39;00m \u001B[38;5;167;01mValueError\u001B[39;00m(\u001B[38;5;124mf\u001B[39m\u001B[38;5;124m\"\u001B[39m\u001B[38;5;124mFailed to find font \u001B[39m\u001B[38;5;132;01m{\u001B[39;00mprop\u001B[38;5;132;01m}\u001B[39;00m\u001B[38;5;124m, and fallback \u001B[39m\u001B[38;5;124m\"\u001B[39m\n\u001B[1;32m   1365\u001B[0m                      \u001B[38;5;124mf\u001B[39m\u001B[38;5;124m\"\u001B[39m\u001B[38;5;124mto the default font was disabled\u001B[39m\u001B[38;5;124m\"\u001B[39m)\n",
      "File \u001B[0;32m~/miniforge3/envs/venv/lib/python3.9/site-packages/matplotlib/font_manager.py:1307\u001B[0m, in \u001B[0;36mFontManager.findfont\u001B[0;34m(self, prop, fontext, directory, fallback_to_default, rebuild_if_missing)\u001B[0m\n\u001B[1;32m   1301\u001B[0m \u001B[38;5;66;03m# Pass the relevant rcParams (and the font manager, as `self`) to\u001B[39;00m\n\u001B[1;32m   1302\u001B[0m \u001B[38;5;66;03m# _findfont_cached so to prevent using a stale cache entry after an\u001B[39;00m\n\u001B[1;32m   1303\u001B[0m \u001B[38;5;66;03m# rcParam was changed.\u001B[39;00m\n\u001B[1;32m   1304\u001B[0m rc_params \u001B[38;5;241m=\u001B[39m \u001B[38;5;28mtuple\u001B[39m(\u001B[38;5;28mtuple\u001B[39m(rcParams[key]) \u001B[38;5;28;01mfor\u001B[39;00m key \u001B[38;5;129;01min\u001B[39;00m [\n\u001B[1;32m   1305\u001B[0m     \u001B[38;5;124m\"\u001B[39m\u001B[38;5;124mfont.serif\u001B[39m\u001B[38;5;124m\"\u001B[39m, \u001B[38;5;124m\"\u001B[39m\u001B[38;5;124mfont.sans-serif\u001B[39m\u001B[38;5;124m\"\u001B[39m, \u001B[38;5;124m\"\u001B[39m\u001B[38;5;124mfont.cursive\u001B[39m\u001B[38;5;124m\"\u001B[39m, \u001B[38;5;124m\"\u001B[39m\u001B[38;5;124mfont.fantasy\u001B[39m\u001B[38;5;124m\"\u001B[39m,\n\u001B[1;32m   1306\u001B[0m     \u001B[38;5;124m\"\u001B[39m\u001B[38;5;124mfont.monospace\u001B[39m\u001B[38;5;124m\"\u001B[39m])\n\u001B[0;32m-> 1307\u001B[0m \u001B[38;5;28;01mreturn\u001B[39;00m \u001B[38;5;28;43mself\u001B[39;49m\u001B[38;5;241;43m.\u001B[39;49m\u001B[43m_findfont_cached\u001B[49m\u001B[43m(\u001B[49m\n\u001B[1;32m   1308\u001B[0m \u001B[43m    \u001B[49m\u001B[43mprop\u001B[49m\u001B[43m,\u001B[49m\u001B[43m \u001B[49m\u001B[43mfontext\u001B[49m\u001B[43m,\u001B[49m\u001B[43m \u001B[49m\u001B[43mdirectory\u001B[49m\u001B[43m,\u001B[49m\u001B[43m \u001B[49m\u001B[43mfallback_to_default\u001B[49m\u001B[43m,\u001B[49m\u001B[43m \u001B[49m\u001B[43mrebuild_if_missing\u001B[49m\u001B[43m,\u001B[49m\n\u001B[1;32m   1309\u001B[0m \u001B[43m    \u001B[49m\u001B[43mrc_params\u001B[49m\u001B[43m)\u001B[49m\n",
      "File \u001B[0;32m~/miniforge3/envs/venv/lib/python3.9/site-packages/matplotlib/font_manager.py:1364\u001B[0m, in \u001B[0;36mFontManager._findfont_cached\u001B[0;34m(self, prop, fontext, directory, fallback_to_default, rebuild_if_missing, rc_params)\u001B[0m\n\u001B[1;32m   1361\u001B[0m         \u001B[38;5;28;01mreturn\u001B[39;00m \u001B[38;5;28mself\u001B[39m\u001B[38;5;241m.\u001B[39mfindfont(default_prop, fontext, directory,\n\u001B[1;32m   1362\u001B[0m                              fallback_to_default\u001B[38;5;241m=\u001B[39m\u001B[38;5;28;01mFalse\u001B[39;00m)\n\u001B[1;32m   1363\u001B[0m     \u001B[38;5;28;01melse\u001B[39;00m:\n\u001B[0;32m-> 1364\u001B[0m         \u001B[38;5;28;01mraise\u001B[39;00m \u001B[38;5;167;01mValueError\u001B[39;00m(\u001B[38;5;124mf\u001B[39m\u001B[38;5;124m\"\u001B[39m\u001B[38;5;124mFailed to find font \u001B[39m\u001B[38;5;132;01m{\u001B[39;00mprop\u001B[38;5;132;01m}\u001B[39;00m\u001B[38;5;124m, and fallback \u001B[39m\u001B[38;5;124m\"\u001B[39m\n\u001B[1;32m   1365\u001B[0m                          \u001B[38;5;124mf\u001B[39m\u001B[38;5;124m\"\u001B[39m\u001B[38;5;124mto the default font was disabled\u001B[39m\u001B[38;5;124m\"\u001B[39m)\n\u001B[1;32m   1366\u001B[0m \u001B[38;5;28;01melse\u001B[39;00m:\n\u001B[1;32m   1367\u001B[0m     _log\u001B[38;5;241m.\u001B[39mdebug(\u001B[38;5;124m'\u001B[39m\u001B[38;5;124mfindfont: Matching \u001B[39m\u001B[38;5;132;01m%s\u001B[39;00m\u001B[38;5;124m to \u001B[39m\u001B[38;5;132;01m%s\u001B[39;00m\u001B[38;5;124m (\u001B[39m\u001B[38;5;132;01m%r\u001B[39;00m\u001B[38;5;124m) with score of \u001B[39m\u001B[38;5;132;01m%f\u001B[39;00m\u001B[38;5;124m.\u001B[39m\u001B[38;5;124m'\u001B[39m,\n\u001B[1;32m   1368\u001B[0m                prop, best_font\u001B[38;5;241m.\u001B[39mname, best_font\u001B[38;5;241m.\u001B[39mfname, best_score)\n",
      "\u001B[0;31mValueError\u001B[0m: Failed to find font DejaVu Sans:style=normal:variant=normal:weight=normal:stretch=normal:size=10.0, and fallback to the default font was disabled"
     ]
    },
    {
     "data": {
      "text/plain": "<Figure size 432x288 with 1 Axes>"
     },
     "metadata": {},
     "output_type": "display_data"
    }
   ],
   "source": [
    "sns.countplot(x = tips['day'])"
   ],
   "metadata": {
    "collapsed": false,
    "pycharm": {
     "name": "#%%\n"
    }
   }
  },
  {
   "cell_type": "code",
   "execution_count": 47,
   "metadata": {
    "collapsed": false,
    "pycharm": {
     "name": "#%%\n"
    }
   },
   "outputs": [],
   "source": [
    "root = '../character_segmentation/'\n",
    "df = [(name, len(os.listdir(root + name))) for name in os.listdir(root) if name != '.DS_Store']"
   ]
  },
  {
   "cell_type": "code",
   "execution_count": 48,
   "outputs": [
    {
     "data": {
      "text/plain": "[('Background', 13209),\n ('R', 5),\n ('U', 0),\n ('9', 864),\n ('0', 1788),\n ('7', 1800),\n ('N', 7),\n ('G', 15),\n ('6', 1942),\n ('Z', 0),\n ('1', 485),\n ('8', 707),\n ('T', 7),\n ('S', 1),\n ('A', 755),\n ('F', 18),\n ('H', 39),\n ('M', 6),\n ('C', 1061),\n ('D', 5),\n ('V', 0),\n ('4', 985),\n ('X', 0),\n ('3', 987),\n ('E', 5),\n ('B', 3),\n ('K', 5),\n ('L', 5),\n ('2', 1076),\n ('Y', 0),\n ('5', 518),\n ('P', 0)]"
     },
     "execution_count": 48,
     "metadata": {},
     "output_type": "execute_result"
    }
   ],
   "source": [
    "df"
   ],
   "metadata": {
    "collapsed": false,
    "pycharm": {
     "name": "#%%\n"
    }
   }
  },
  {
   "cell_type": "code",
   "execution_count": 16,
   "metadata": {
    "collapsed": false,
    "pycharm": {
     "name": "#%%\n"
    }
   },
   "outputs": [],
   "source": [
    "df = pd.DataFrame(df)"
   ]
  },
  {
   "cell_type": "code",
   "execution_count": 17,
   "metadata": {
    "collapsed": false,
    "pycharm": {
     "name": "#%%\n"
    }
   },
   "outputs": [
    {
     "data": {
      "text/plain": "             0     1\n0   Background  2145\n1            R     8\n2            U     0\n3            9  1409\n4            0  2870\n5            7  2589\n6            N     1\n7            G     6\n8            6  2739\n9            Z     0\n10           1  1464\n11           8  1205\n12           T     2\n13           S     5\n14           A   167\n15           F    15\n16           H   158\n17           M    42\n18           C  2124\n19           D     6\n20           V     4\n21           4  1065\n22           X     1\n23           3  1235\n24           E     6\n25           B     1\n26           K    50\n27           L     3\n28           2  1947\n29           Y     1\n30           5  1036\n31           P     0",
      "text/html": "<div>\n<style scoped>\n    .dataframe tbody tr th:only-of-type {\n        vertical-align: middle;\n    }\n\n    .dataframe tbody tr th {\n        vertical-align: top;\n    }\n\n    .dataframe thead th {\n        text-align: right;\n    }\n</style>\n<table border=\"1\" class=\"dataframe\">\n  <thead>\n    <tr style=\"text-align: right;\">\n      <th></th>\n      <th>0</th>\n      <th>1</th>\n    </tr>\n  </thead>\n  <tbody>\n    <tr>\n      <th>0</th>\n      <td>Background</td>\n      <td>2145</td>\n    </tr>\n    <tr>\n      <th>1</th>\n      <td>R</td>\n      <td>8</td>\n    </tr>\n    <tr>\n      <th>2</th>\n      <td>U</td>\n      <td>0</td>\n    </tr>\n    <tr>\n      <th>3</th>\n      <td>9</td>\n      <td>1409</td>\n    </tr>\n    <tr>\n      <th>4</th>\n      <td>0</td>\n      <td>2870</td>\n    </tr>\n    <tr>\n      <th>5</th>\n      <td>7</td>\n      <td>2589</td>\n    </tr>\n    <tr>\n      <th>6</th>\n      <td>N</td>\n      <td>1</td>\n    </tr>\n    <tr>\n      <th>7</th>\n      <td>G</td>\n      <td>6</td>\n    </tr>\n    <tr>\n      <th>8</th>\n      <td>6</td>\n      <td>2739</td>\n    </tr>\n    <tr>\n      <th>9</th>\n      <td>Z</td>\n      <td>0</td>\n    </tr>\n    <tr>\n      <th>10</th>\n      <td>1</td>\n      <td>1464</td>\n    </tr>\n    <tr>\n      <th>11</th>\n      <td>8</td>\n      <td>1205</td>\n    </tr>\n    <tr>\n      <th>12</th>\n      <td>T</td>\n      <td>2</td>\n    </tr>\n    <tr>\n      <th>13</th>\n      <td>S</td>\n      <td>5</td>\n    </tr>\n    <tr>\n      <th>14</th>\n      <td>A</td>\n      <td>167</td>\n    </tr>\n    <tr>\n      <th>15</th>\n      <td>F</td>\n      <td>15</td>\n    </tr>\n    <tr>\n      <th>16</th>\n      <td>H</td>\n      <td>158</td>\n    </tr>\n    <tr>\n      <th>17</th>\n      <td>M</td>\n      <td>42</td>\n    </tr>\n    <tr>\n      <th>18</th>\n      <td>C</td>\n      <td>2124</td>\n    </tr>\n    <tr>\n      <th>19</th>\n      <td>D</td>\n      <td>6</td>\n    </tr>\n    <tr>\n      <th>20</th>\n      <td>V</td>\n      <td>4</td>\n    </tr>\n    <tr>\n      <th>21</th>\n      <td>4</td>\n      <td>1065</td>\n    </tr>\n    <tr>\n      <th>22</th>\n      <td>X</td>\n      <td>1</td>\n    </tr>\n    <tr>\n      <th>23</th>\n      <td>3</td>\n      <td>1235</td>\n    </tr>\n    <tr>\n      <th>24</th>\n      <td>E</td>\n      <td>6</td>\n    </tr>\n    <tr>\n      <th>25</th>\n      <td>B</td>\n      <td>1</td>\n    </tr>\n    <tr>\n      <th>26</th>\n      <td>K</td>\n      <td>50</td>\n    </tr>\n    <tr>\n      <th>27</th>\n      <td>L</td>\n      <td>3</td>\n    </tr>\n    <tr>\n      <th>28</th>\n      <td>2</td>\n      <td>1947</td>\n    </tr>\n    <tr>\n      <th>29</th>\n      <td>Y</td>\n      <td>1</td>\n    </tr>\n    <tr>\n      <th>30</th>\n      <td>5</td>\n      <td>1036</td>\n    </tr>\n    <tr>\n      <th>31</th>\n      <td>P</td>\n      <td>0</td>\n    </tr>\n  </tbody>\n</table>\n</div>"
     },
     "execution_count": 17,
     "metadata": {},
     "output_type": "execute_result"
    }
   ],
   "source": [
    "df"
   ]
  }
 ],
 "metadata": {
  "kernelspec": {
   "display_name": "Python 3.9.9 ('venv')",
   "language": "python",
   "name": "python3"
  },
  "language_info": {
   "codemirror_mode": {
    "name": "ipython",
    "version": 2
   },
   "file_extension": ".py",
   "mimetype": "text/x-python",
   "name": "python",
   "nbconvert_exporter": "python",
   "pygments_lexer": "ipython2",
   "version": "3.9.9"
  },
  "vscode": {
   "interpreter": {
    "hash": "20911c5f12ac857e5e3f6685ebac981da53d43e5f669e85242709c3571191424"
   }
  }
 },
 "nbformat": 4,
 "nbformat_minor": 0
}