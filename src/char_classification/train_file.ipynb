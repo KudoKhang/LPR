{
 "nbformat": 4,
 "nbformat_minor": 0,
 "metadata": {
  "colab": {
   "name": "LP_Recognition.ipynb",
   "provenance": []
  },
  "kernelspec": {
   "name": "python3",
   "display_name": "Python 3"
  },
  "accelerator": "GPU"
 },
 "cells": [
  {
   "cell_type": "code",
   "metadata": {
    "id": "gmRlqcvMQUDJ",
    "colab_type": "code",
    "outputId": "07c1fe81-717a-4b97-ace1-d2fc23004909",
    "colab": {
     "base_uri": "https://localhost:8080/",
     "height": 34
    },
    "pycharm": {
     "name": "#%%\n"
    }
   },
   "source": [
    "from google.colab import drive\n",
    "drive.mount('/content/drive')"
   ],
   "execution_count": 0,
   "outputs": [
    {
     "output_type": "stream",
     "text": [
      "Drive already mounted at /content/drive; to attempt to forcibly remount, call drive.mount(\"/content/drive\", force_remount=True).\n"
     ],
     "name": "stdout"
    }
   ]
  },
  {
   "cell_type": "code",
   "metadata": {
    "id": "NS_5W_vEQqdN",
    "colab_type": "code",
    "outputId": "0369a713-a73e-4768-c6c2-03779578cc52",
    "colab": {
     "base_uri": "https://localhost:8080/",
     "height": 782
    },
    "pycharm": {
     "name": "#%%\n"
    }
   },
   "source": [
    "from model import CNN_Model\n",
    "model = CNN_Model(trainable=True)"
   ],
   "execution_count": 11,
   "outputs": [
    {
     "name": "stdout",
     "output_type": "stream",
     "text": [
      "Model: \"sequential_7\"\n",
      "_________________________________________________________________\n",
      " Layer (type)                Output Shape              Param #   \n",
      "=================================================================\n",
      " conv2d_42 (Conv2D)          (None, 28, 28, 32)        320       \n",
      "                                                                 \n",
      " conv2d_43 (Conv2D)          (None, 26, 26, 32)        9248      \n",
      "                                                                 \n",
      " max_pooling2d_21 (MaxPoolin  (None, 13, 13, 32)       0         \n",
      " g2D)                                                            \n",
      "                                                                 \n",
      " dropout_28 (Dropout)        (None, 13, 13, 32)        0         \n",
      "                                                                 \n",
      " conv2d_44 (Conv2D)          (None, 13, 13, 64)        18496     \n",
      "                                                                 \n",
      " conv2d_45 (Conv2D)          (None, 11, 11, 64)        36928     \n",
      "                                                                 \n",
      " max_pooling2d_22 (MaxPoolin  (None, 5, 5, 64)         0         \n",
      " g2D)                                                            \n",
      "                                                                 \n",
      " dropout_29 (Dropout)        (None, 5, 5, 64)          0         \n",
      "                                                                 \n",
      " conv2d_46 (Conv2D)          (None, 5, 5, 64)          36928     \n",
      "                                                                 \n",
      " conv2d_47 (Conv2D)          (None, 3, 3, 64)          36928     \n",
      "                                                                 \n",
      " max_pooling2d_23 (MaxPoolin  (None, 1, 1, 64)         0         \n",
      " g2D)                                                            \n",
      "                                                                 \n",
      " dropout_30 (Dropout)        (None, 1, 1, 64)          0         \n",
      "                                                                 \n",
      " flatten_7 (Flatten)         (None, 64)                0         \n",
      "                                                                 \n",
      " dense_14 (Dense)            (None, 512)               33280     \n",
      "                                                                 \n",
      " dropout_31 (Dropout)        (None, 512)               0         \n",
      "                                                                 \n",
      " dense_15 (Dense)            (None, 32)                16416     \n",
      "                                                                 \n",
      "=================================================================\n",
      "Total params: 188,544\n",
      "Trainable params: 188,544\n",
      "Non-trainable params: 0\n",
      "_________________________________________________________________\n",
      "-------------DONE------------\n",
      "The number of train digits data:  11656\n",
      "-------------DONE------------\n",
      "The number of train alphas data:  1976\n"
     ]
    }
   ]
  },
  {
   "cell_type": "code",
   "execution_count": 12,
   "outputs": [
    {
     "name": "stdout",
     "output_type": "stream",
     "text": [
      "Training......\n",
      "Epoch 1/50\n"
     ]
    },
    {
     "name": "stderr",
     "output_type": "stream",
     "text": [
      "2022-08-12 16:49:59.067110: I tensorflow/core/grappler/optimizers/custom_graph_optimizer_registry.cc:113] Plugin optimizer for device_type GPU is enabled.\n"
     ]
    },
    {
     "name": "stdout",
     "output_type": "stream",
     "text": [
      "183/183 [==============================] - ETA: 0s - loss: 1.0822 - acc: 0.7245"
     ]
    },
    {
     "name": "stderr",
     "output_type": "stream",
     "text": [
      "2022-08-12 16:50:07.134725: I tensorflow/core/grappler/optimizers/custom_graph_optimizer_registry.cc:113] Plugin optimizer for device_type GPU is enabled.\n"
     ]
    },
    {
     "name": "stdout",
     "output_type": "stream",
     "text": [
      "183/183 [==============================] - 9s 38ms/step - loss: 1.0822 - acc: 0.7245 - val_loss: 0.1206 - val_acc: 0.9723 - lr: 0.0010\n",
      "Epoch 2/50\n",
      "183/183 [==============================] - 6s 32ms/step - loss: 0.1579 - acc: 0.9587 - val_loss: 0.0551 - val_acc: 0.9854 - lr: 0.0010\n",
      "Epoch 3/50\n",
      "183/183 [==============================] - 5s 28ms/step - loss: 0.0840 - acc: 0.9783 - val_loss: 0.0302 - val_acc: 0.9932 - lr: 0.0010\n",
      "Epoch 4/50\n",
      "183/183 [==============================] - 5s 30ms/step - loss: 0.0675 - acc: 0.9834 - val_loss: 0.0278 - val_acc: 0.9910 - lr: 0.0010\n",
      "Epoch 5/50\n",
      "183/183 [==============================] - 5s 30ms/step - loss: 0.0494 - acc: 0.9872 - val_loss: 0.0204 - val_acc: 0.9944 - lr: 0.0010\n",
      "Epoch 6/50\n",
      "183/183 [==============================] - 5s 29ms/step - loss: 0.0362 - acc: 0.9908 - val_loss: 0.0167 - val_acc: 0.9961 - lr: 0.0010\n",
      "Epoch 7/50\n",
      "183/183 [==============================] - 5s 29ms/step - loss: 0.0360 - acc: 0.9911 - val_loss: 0.0122 - val_acc: 0.9966 - lr: 0.0010\n",
      "Epoch 8/50\n",
      "183/183 [==============================] - 7s 36ms/step - loss: 0.0276 - acc: 0.9932 - val_loss: 0.0143 - val_acc: 0.9968 - lr: 0.0010\n",
      "Epoch 9/50\n",
      "183/183 [==============================] - 7s 38ms/step - loss: 0.0259 - acc: 0.9940 - val_loss: 0.0101 - val_acc: 0.9968 - lr: 0.0010\n",
      "Epoch 10/50\n",
      "183/183 [==============================] - 7s 37ms/step - loss: 0.0268 - acc: 0.9933 - val_loss: 0.0127 - val_acc: 0.9966 - lr: 0.0010\n",
      "Epoch 11/50\n",
      "183/183 [==============================] - 5s 29ms/step - loss: 0.0231 - acc: 0.9943 - val_loss: 0.0130 - val_acc: 0.9971 - lr: 0.0010\n",
      "Epoch 12/50\n",
      "183/183 [==============================] - 6s 31ms/step - loss: 0.0214 - acc: 0.9945 - val_loss: 0.0111 - val_acc: 0.9973 - lr: 0.0010\n",
      "Epoch 13/50\n",
      "183/183 [==============================] - 5s 29ms/step - loss: 0.0165 - acc: 0.9955 - val_loss: 0.0089 - val_acc: 0.9971 - lr: 0.0010\n",
      "Epoch 14/50\n",
      "183/183 [==============================] - 5s 28ms/step - loss: 0.0255 - acc: 0.9929 - val_loss: 0.0116 - val_acc: 0.9973 - lr: 0.0010\n",
      "Epoch 15/50\n",
      "183/183 [==============================] - 5s 29ms/step - loss: 0.0214 - acc: 0.9942 - val_loss: 0.0119 - val_acc: 0.9973 - lr: 0.0010\n",
      "Epoch 16/50\n",
      "183/183 [==============================] - 5s 28ms/step - loss: 0.0151 - acc: 0.9964 - val_loss: 0.0096 - val_acc: 0.9971 - lr: 0.0010\n",
      "Epoch 17/50\n",
      "183/183 [==============================] - 5s 29ms/step - loss: 0.0172 - acc: 0.9958 - val_loss: 0.0089 - val_acc: 0.9976 - lr: 0.0010\n",
      "Epoch 18/50\n",
      "183/183 [==============================] - 5s 29ms/step - loss: 0.0103 - acc: 0.9973 - val_loss: 0.0098 - val_acc: 0.9973 - lr: 0.0010\n",
      "Epoch 19/50\n",
      "183/183 [==============================] - 5s 29ms/step - loss: 0.0125 - acc: 0.9968 - val_loss: 0.0063 - val_acc: 0.9981 - lr: 0.0010\n",
      "Epoch 20/50\n",
      "183/183 [==============================] - 5s 29ms/step - loss: 0.0111 - acc: 0.9973 - val_loss: 0.0073 - val_acc: 0.9981 - lr: 0.0010\n",
      "Epoch 21/50\n",
      "183/183 [==============================] - 5s 28ms/step - loss: 0.0190 - acc: 0.9952 - val_loss: 0.0147 - val_acc: 0.9976 - lr: 0.0010\n",
      "Epoch 22/50\n",
      "183/183 [==============================] - 6s 31ms/step - loss: 0.0151 - acc: 0.9960 - val_loss: 0.0094 - val_acc: 0.9971 - lr: 0.0010\n",
      "Epoch 23/50\n",
      "183/183 [==============================] - 5s 28ms/step - loss: 0.0147 - acc: 0.9960 - val_loss: 0.0094 - val_acc: 0.9976 - lr: 0.0010\n",
      "Epoch 24/50\n",
      "181/183 [============================>.] - ETA: 0s - loss: 0.0159 - acc: 0.9958\n",
      "Epoch 24: ReduceLROnPlateau reducing learning rate to 0.00020000000949949026.\n",
      "183/183 [==============================] - 5s 28ms/step - loss: 0.0158 - acc: 0.9958 - val_loss: 0.0084 - val_acc: 0.9978 - lr: 0.0010\n",
      "Epoch 25/50\n",
      "183/183 [==============================] - 6s 31ms/step - loss: 0.0072 - acc: 0.9982 - val_loss: 0.0049 - val_acc: 0.9990 - lr: 2.0000e-04\n",
      "Epoch 26/50\n",
      "183/183 [==============================] - 5s 29ms/step - loss: 0.0037 - acc: 0.9991 - val_loss: 0.0039 - val_acc: 0.9988 - lr: 2.0000e-04\n",
      "Epoch 27/50\n",
      "183/183 [==============================] - 5s 28ms/step - loss: 0.0034 - acc: 0.9991 - val_loss: 0.0046 - val_acc: 0.9983 - lr: 2.0000e-04\n",
      "Epoch 28/50\n",
      "183/183 [==============================] - 5s 30ms/step - loss: 0.0017 - acc: 0.9995 - val_loss: 0.0043 - val_acc: 0.9985 - lr: 2.0000e-04\n",
      "Epoch 29/50\n",
      "183/183 [==============================] - 5s 28ms/step - loss: 0.0030 - acc: 0.9992 - val_loss: 0.0041 - val_acc: 0.9988 - lr: 2.0000e-04\n",
      "Epoch 30/50\n",
      "182/183 [============================>.] - ETA: 0s - loss: 0.0019 - acc: 0.9994\n",
      "Epoch 30: ReduceLROnPlateau reducing learning rate to 4.0000001899898055e-05.\n",
      "183/183 [==============================] - 5s 29ms/step - loss: 0.0019 - acc: 0.9994 - val_loss: 0.0050 - val_acc: 0.9988 - lr: 2.0000e-04\n",
      "Epoch 31/50\n",
      "183/183 [==============================] - 5s 29ms/step - loss: 0.0017 - acc: 0.9994 - val_loss: 0.0049 - val_acc: 0.9988 - lr: 4.0000e-05\n",
      "Epoch 32/50\n",
      "183/183 [==============================] - 6s 35ms/step - loss: 0.0020 - acc: 0.9994 - val_loss: 0.0048 - val_acc: 0.9988 - lr: 4.0000e-05\n",
      "Epoch 33/50\n",
      "183/183 [==============================] - 5s 29ms/step - loss: 0.0018 - acc: 0.9994 - val_loss: 0.0050 - val_acc: 0.9988 - lr: 4.0000e-05\n",
      "Epoch 34/50\n",
      "183/183 [==============================] - 6s 31ms/step - loss: 0.0018 - acc: 0.9994 - val_loss: 0.0049 - val_acc: 0.9988 - lr: 4.0000e-05\n",
      "Epoch 35/50\n",
      "183/183 [==============================] - ETA: 0s - loss: 0.0015 - acc: 0.9995\n",
      "Epoch 35: ReduceLROnPlateau reducing learning rate to 8.000000525498762e-06.\n",
      "183/183 [==============================] - 7s 37ms/step - loss: 0.0015 - acc: 0.9995 - val_loss: 0.0048 - val_acc: 0.9988 - lr: 4.0000e-05\n",
      "Epoch 36/50\n",
      "183/183 [==============================] - 7s 36ms/step - loss: 0.0012 - acc: 0.9996 - val_loss: 0.0048 - val_acc: 0.9988 - lr: 8.0000e-06\n",
      "Epoch 37/50\n",
      "183/183 [==============================] - 6s 31ms/step - loss: 0.0011 - acc: 0.9997 - val_loss: 0.0048 - val_acc: 0.9988 - lr: 8.0000e-06\n",
      "Epoch 38/50\n",
      "183/183 [==============================] - 7s 37ms/step - loss: 0.0013 - acc: 0.9995 - val_loss: 0.0048 - val_acc: 0.9988 - lr: 8.0000e-06\n",
      "Epoch 39/50\n",
      "183/183 [==============================] - 6s 35ms/step - loss: 0.0019 - acc: 0.9995 - val_loss: 0.0048 - val_acc: 0.9988 - lr: 8.0000e-06\n",
      "Epoch 40/50\n",
      "183/183 [==============================] - ETA: 0s - loss: 0.0017 - acc: 0.9997\n",
      "Epoch 40: ReduceLROnPlateau reducing learning rate to 1.6000001778593287e-06.\n",
      "183/183 [==============================] - 6s 30ms/step - loss: 0.0017 - acc: 0.9997 - val_loss: 0.0048 - val_acc: 0.9988 - lr: 8.0000e-06\n",
      "Epoch 41/50\n",
      "183/183 [==============================] - 5s 30ms/step - loss: 0.0013 - acc: 0.9996 - val_loss: 0.0048 - val_acc: 0.9988 - lr: 1.6000e-06\n",
      "Epoch 42/50\n",
      "183/183 [==============================] - 5s 29ms/step - loss: 0.0014 - acc: 0.9996 - val_loss: 0.0048 - val_acc: 0.9988 - lr: 1.6000e-06\n",
      "Epoch 43/50\n",
      "183/183 [==============================] - 6s 33ms/step - loss: 0.0011 - acc: 0.9997 - val_loss: 0.0048 - val_acc: 0.9988 - lr: 1.6000e-06\n",
      "Epoch 44/50\n",
      "183/183 [==============================] - 6s 30ms/step - loss: 0.0011 - acc: 0.9995 - val_loss: 0.0048 - val_acc: 0.9988 - lr: 1.6000e-06\n",
      "Epoch 45/50\n",
      "183/183 [==============================] - ETA: 0s - loss: 0.0023 - acc: 0.9993\n",
      "Epoch 45: ReduceLROnPlateau reducing learning rate to 3.200000264769187e-07.\n",
      "183/183 [==============================] - 5s 30ms/step - loss: 0.0023 - acc: 0.9993 - val_loss: 0.0048 - val_acc: 0.9988 - lr: 1.6000e-06\n",
      "Epoch 46/50\n",
      "183/183 [==============================] - 5s 29ms/step - loss: 0.0016 - acc: 0.9994 - val_loss: 0.0048 - val_acc: 0.9988 - lr: 3.2000e-07\n",
      "Epoch 47/50\n",
      "183/183 [==============================] - 5s 28ms/step - loss: 0.0014 - acc: 0.9996 - val_loss: 0.0048 - val_acc: 0.9988 - lr: 3.2000e-07\n",
      "Epoch 48/50\n",
      "183/183 [==============================] - 6s 33ms/step - loss: 0.0012 - acc: 0.9997 - val_loss: 0.0048 - val_acc: 0.9988 - lr: 3.2000e-07\n",
      "Epoch 49/50\n",
      "183/183 [==============================] - 5s 28ms/step - loss: 0.0018 - acc: 0.9994 - val_loss: 0.0048 - val_acc: 0.9988 - lr: 3.2000e-07\n",
      "Epoch 50/50\n",
      "182/183 [============================>.] - ETA: 0s - loss: 9.3824e-04 - acc: 0.9997\n",
      "Epoch 50: ReduceLROnPlateau reducing learning rate to 6.400000529538374e-08.\n",
      "183/183 [==============================] - 6s 30ms/step - loss: 9.3647e-04 - acc: 0.9997 - val_loss: 0.0048 - val_acc: 0.9988 - lr: 3.2000e-07\n"
     ]
    }
   ],
   "source": [
    "model.train()"
   ],
   "metadata": {
    "collapsed": false,
    "pycharm": {
     "name": "#%%\n"
    }
   }
  },
  {
   "cell_type": "code",
   "execution_count": null,
   "outputs": [],
   "source": [],
   "metadata": {
    "collapsed": false,
    "pycharm": {
     "name": "#%%\n"
    }
   }
  }
 ]
}