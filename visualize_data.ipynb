{
 "cells": [
  {
   "cell_type": "code",
   "execution_count": 1,
   "metadata": {
    "collapsed": false,
    "pycharm": {
     "name": "#%%\n"
    }
   },
   "outputs": [],
   "source": [
    "import os\n",
    "\n",
    "import matplotlib.pyplot as plt\n",
    "import cv2\n",
    "import numpy as np\n",
    "import pandas as pd\n",
    "import seaborn as sns\n",
    "import os\n",
    "\n",
    "import pandas as pd\n",
    "import numpy as np\n",
    "import matplotlib.pyplot as plt\n",
    "import seaborn as sns"
   ]
  },
  {
   "cell_type": "code",
   "execution_count": 2,
   "metadata": {
    "collapsed": false,
    "pycharm": {
     "name": "#%%\n"
    }
   },
   "outputs": [],
   "source": [
    "root = '../character_dataset2/'\n",
    "df = [(name, len(os.listdir(root + name))) for name in os.listdir(root) if name != '.DS_Store']"
   ]
  },
  {
   "cell_type": "code",
   "execution_count": 3,
   "outputs": [
    {
     "data": {
      "text/plain": "[('Background', 2152),\n ('R', 240),\n ('U', 228),\n ('9', 2868),\n ('0', 4968),\n ('7', 3166),\n ('N', 147),\n ('G', 251),\n ('6', 4350),\n ('Z', 205),\n ('1', 2232),\n ('8', 2221),\n ('T', 303),\n ('S', 384),\n ('A', 869),\n ('F', 205),\n ('H', 308),\n ('M', 146),\n ('J', 111),\n ('C', 2523),\n ('D', 134),\n ('V', 344),\n ('4', 2020),\n ('X', 136),\n ('3', 2590),\n ('E', 213),\n ('B', 366),\n ('K', 187),\n ('L', 116),\n ('2', 3224),\n ('Y', 90),\n ('5', 1902),\n ('P', 174)]"
     },
     "execution_count": 3,
     "metadata": {},
     "output_type": "execute_result"
    }
   ],
   "source": [
    "df"
   ],
   "metadata": {
    "collapsed": false,
    "pycharm": {
     "name": "#%%\n"
    }
   }
  },
  {
   "cell_type": "code",
   "execution_count": 16,
   "metadata": {
    "collapsed": false,
    "pycharm": {
     "name": "#%%\n"
    }
   },
   "outputs": [],
   "source": [
    "df = pd.DataFrame(df)"
   ]
  },
  {
   "cell_type": "code",
   "execution_count": 17,
   "metadata": {
    "collapsed": false,
    "pycharm": {
     "name": "#%%\n"
    }
   },
   "outputs": [
    {
     "data": {
      "text/plain": "             0     1\n0   Background  2145\n1            R     8\n2            U     0\n3            9  1409\n4            0  2870\n5            7  2589\n6            N     1\n7            G     6\n8            6  2739\n9            Z     0\n10           1  1464\n11           8  1205\n12           T     2\n13           S     5\n14           A   167\n15           F    15\n16           H   158\n17           M    42\n18           C  2124\n19           D     6\n20           V     4\n21           4  1065\n22           X     1\n23           3  1235\n24           E     6\n25           B     1\n26           K    50\n27           L     3\n28           2  1947\n29           Y     1\n30           5  1036\n31           P     0",
      "text/html": "<div>\n<style scoped>\n    .dataframe tbody tr th:only-of-type {\n        vertical-align: middle;\n    }\n\n    .dataframe tbody tr th {\n        vertical-align: top;\n    }\n\n    .dataframe thead th {\n        text-align: right;\n    }\n</style>\n<table border=\"1\" class=\"dataframe\">\n  <thead>\n    <tr style=\"text-align: right;\">\n      <th></th>\n      <th>0</th>\n      <th>1</th>\n    </tr>\n  </thead>\n  <tbody>\n    <tr>\n      <th>0</th>\n      <td>Background</td>\n      <td>2145</td>\n    </tr>\n    <tr>\n      <th>1</th>\n      <td>R</td>\n      <td>8</td>\n    </tr>\n    <tr>\n      <th>2</th>\n      <td>U</td>\n      <td>0</td>\n    </tr>\n    <tr>\n      <th>3</th>\n      <td>9</td>\n      <td>1409</td>\n    </tr>\n    <tr>\n      <th>4</th>\n      <td>0</td>\n      <td>2870</td>\n    </tr>\n    <tr>\n      <th>5</th>\n      <td>7</td>\n      <td>2589</td>\n    </tr>\n    <tr>\n      <th>6</th>\n      <td>N</td>\n      <td>1</td>\n    </tr>\n    <tr>\n      <th>7</th>\n      <td>G</td>\n      <td>6</td>\n    </tr>\n    <tr>\n      <th>8</th>\n      <td>6</td>\n      <td>2739</td>\n    </tr>\n    <tr>\n      <th>9</th>\n      <td>Z</td>\n      <td>0</td>\n    </tr>\n    <tr>\n      <th>10</th>\n      <td>1</td>\n      <td>1464</td>\n    </tr>\n    <tr>\n      <th>11</th>\n      <td>8</td>\n      <td>1205</td>\n    </tr>\n    <tr>\n      <th>12</th>\n      <td>T</td>\n      <td>2</td>\n    </tr>\n    <tr>\n      <th>13</th>\n      <td>S</td>\n      <td>5</td>\n    </tr>\n    <tr>\n      <th>14</th>\n      <td>A</td>\n      <td>167</td>\n    </tr>\n    <tr>\n      <th>15</th>\n      <td>F</td>\n      <td>15</td>\n    </tr>\n    <tr>\n      <th>16</th>\n      <td>H</td>\n      <td>158</td>\n    </tr>\n    <tr>\n      <th>17</th>\n      <td>M</td>\n      <td>42</td>\n    </tr>\n    <tr>\n      <th>18</th>\n      <td>C</td>\n      <td>2124</td>\n    </tr>\n    <tr>\n      <th>19</th>\n      <td>D</td>\n      <td>6</td>\n    </tr>\n    <tr>\n      <th>20</th>\n      <td>V</td>\n      <td>4</td>\n    </tr>\n    <tr>\n      <th>21</th>\n      <td>4</td>\n      <td>1065</td>\n    </tr>\n    <tr>\n      <th>22</th>\n      <td>X</td>\n      <td>1</td>\n    </tr>\n    <tr>\n      <th>23</th>\n      <td>3</td>\n      <td>1235</td>\n    </tr>\n    <tr>\n      <th>24</th>\n      <td>E</td>\n      <td>6</td>\n    </tr>\n    <tr>\n      <th>25</th>\n      <td>B</td>\n      <td>1</td>\n    </tr>\n    <tr>\n      <th>26</th>\n      <td>K</td>\n      <td>50</td>\n    </tr>\n    <tr>\n      <th>27</th>\n      <td>L</td>\n      <td>3</td>\n    </tr>\n    <tr>\n      <th>28</th>\n      <td>2</td>\n      <td>1947</td>\n    </tr>\n    <tr>\n      <th>29</th>\n      <td>Y</td>\n      <td>1</td>\n    </tr>\n    <tr>\n      <th>30</th>\n      <td>5</td>\n      <td>1036</td>\n    </tr>\n    <tr>\n      <th>31</th>\n      <td>P</td>\n      <td>0</td>\n    </tr>\n  </tbody>\n</table>\n</div>"
     },
     "execution_count": 17,
     "metadata": {},
     "output_type": "execute_result"
    }
   ],
   "source": [
    "df"
   ]
  }
 ],
 "metadata": {
  "kernelspec": {
   "display_name": "Python 3.9.9 ('venv')",
   "language": "python",
   "name": "python3"
  },
  "language_info": {
   "codemirror_mode": {
    "name": "ipython",
    "version": 2
   },
   "file_extension": ".py",
   "mimetype": "text/x-python",
   "name": "python",
   "nbconvert_exporter": "python",
   "pygments_lexer": "ipython2",
   "version": "3.9.9"
  },
  "vscode": {
   "interpreter": {
    "hash": "20911c5f12ac857e5e3f6685ebac981da53d43e5f669e85242709c3571191424"
   }
  }
 },
 "nbformat": 4,
 "nbformat_minor": 0
}